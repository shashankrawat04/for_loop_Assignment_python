{
  "cells": [
    {
      "cell_type": "code",
      "execution_count": null,
      "id": "e0ee3d32-23f3-4139-b808-3a30bccc8112",
      "metadata": {
        "id": "e0ee3d32-23f3-4139-b808-3a30bccc8112",
        "outputId": "e15087b8-d271-4412-c966-e892473957a6"
      },
      "outputs": [
        {
          "name": "stdout",
          "output_type": "stream",
          "text": [
            "1\n",
            "2\n",
            "3\n",
            "4\n",
            "5\n",
            "6\n",
            "7\n",
            "8\n",
            "9\n",
            "10\n"
          ]
        }
      ],
      "source": [
        "#1\n",
        "for i in range(1, 11):\n",
        "  print(i)\n"
      ]
    },
    {
      "cell_type": "code",
      "execution_count": null,
      "id": "c1d25786-2fa2-44ea-b98f-2a2b232cd03b",
      "metadata": {
        "id": "c1d25786-2fa2-44ea-b98f-2a2b232cd03b",
        "outputId": "b848f461-e249-44d9-d080-53c9fd7f95b2"
      },
      "outputs": [
        {
          "name": "stdout",
          "output_type": "stream",
          "text": [
            "15\n"
          ]
        }
      ],
      "source": [
        "#2\n",
        "numbers = [1, 2, 3, 4, 5]\n",
        "sum = 0\n",
        "for number in numbers:\n",
        "  sum += number\n",
        "print(sum)\n"
      ]
    },
    {
      "cell_type": "code",
      "execution_count": null,
      "id": "29aa67e9-e442-4f9c-9910-08fe490575df",
      "metadata": {
        "id": "29aa67e9-e442-4f9c-9910-08fe490575df",
        "outputId": "66ff77b5-4771-45ab-e405-f89accdf7435"
      },
      "outputs": [
        {
          "name": "stdout",
          "output_type": "stream",
          "text": [
            "!dlrow ,olleH"
          ]
        }
      ],
      "source": [
        "#3\n",
        "string = \"Hello, world!\"\n",
        "for character in reversed(string):\n",
        "  print(character, end = '')\n"
      ]
    },
    {
      "cell_type": "code",
      "execution_count": null,
      "id": "932ffcc3-ace2-4e0d-a4fa-0de60a9675f7",
      "metadata": {
        "id": "932ffcc3-ace2-4e0d-a4fa-0de60a9675f7",
        "outputId": "7fbe30b8-db10-4a40-d0d4-59986b118b99"
      },
      "outputs": [
        {
          "name": "stdout",
          "output_type": "stream",
          "text": [
            "The factorial of 2 is 2\n"
          ]
        }
      ],
      "source": [
        "#4\n",
        "\n",
        "num = 2\n",
        "\n",
        "\n",
        "\n",
        "factorial = 1\n",
        "\n",
        "\n",
        "if num < 0:\n",
        "   print(\"Sorry, factorial does not exist for negative numbers\")\n",
        "elif num == 0:\n",
        "   print(\"The factorial of 0 is 1\")\n",
        "else:\n",
        "   for i in range(1,num + 1):\n",
        "       factorial = factorial*i\n",
        "   print(\"The factorial of\",num,\"is\",factorial)\n"
      ]
    },
    {
      "cell_type": "code",
      "execution_count": null,
      "id": "49f2b96a-79ab-4008-ab6f-1bdbbc8e1155",
      "metadata": {
        "id": "49f2b96a-79ab-4008-ab6f-1bdbbc8e1155",
        "outputId": "cfc15815-631d-4183-9f8d-b1d09e1e2433"
      },
      "outputs": [
        {
          "name": "stdin",
          "output_type": "stream",
          "text": [
            "Enter a number:  5\n"
          ]
        },
        {
          "name": "stdout",
          "output_type": "stream",
          "text": [
            "5\n",
            "10\n",
            "15\n",
            "20\n",
            "25\n",
            "30\n",
            "35\n",
            "40\n",
            "45\n",
            "50\n"
          ]
        }
      ],
      "source": [
        "#5\n",
        "number = int(input(\"Enter a number: \"))\n",
        "for i in range(1, 11):\n",
        "  s = number * i\n",
        "  print(s)\n"
      ]
    },
    {
      "cell_type": "code",
      "execution_count": null,
      "id": "5ae3de7b-166d-47bc-9191-3379ab967734",
      "metadata": {
        "id": "5ae3de7b-166d-47bc-9191-3379ab967734",
        "outputId": "d9c89b9c-6333-4008-8a9b-b02ee99236ab"
      },
      "outputs": [
        {
          "name": "stdout",
          "output_type": "stream",
          "text": [
            "The number of even numbers is 5\n",
            "The number of odd numbers is 5\n"
          ]
        }
      ],
      "source": [
        "#6\n",
        "numbers = [1, 2, 3, 4, 5, 6, 7, 8, 9, 10]\n",
        "even_count = 0\n",
        "odd_count = 0\n",
        "for number in numbers:\n",
        "  if number % 2 == 0:\n",
        "    even_count += 1\n",
        "  else:\n",
        "    odd_count += 1\n",
        "\n",
        "print(\"The number of even numbers is\", even_count)\n",
        "print(\"The number of odd numbers is\", odd_count)\n"
      ]
    },
    {
      "cell_type": "code",
      "execution_count": null,
      "id": "9452ae87-e7b1-488e-8bcb-f4ba40db4ce1",
      "metadata": {
        "id": "9452ae87-e7b1-488e-8bcb-f4ba40db4ce1",
        "outputId": "3b782e8d-50f8-40ed-dbfb-dfe568be9cce"
      },
      "outputs": [
        {
          "name": "stdout",
          "output_type": "stream",
          "text": [
            "1\n",
            "4\n",
            "9\n",
            "16\n",
            "25\n"
          ]
        }
      ],
      "source": [
        "#7\n",
        "for i in range(1, 6):\n",
        "  print(i * i)\n"
      ]
    },
    {
      "cell_type": "code",
      "execution_count": null,
      "id": "cc04ec91-db6a-47b5-8c7b-2bd8c1b6e971",
      "metadata": {
        "id": "cc04ec91-db6a-47b5-8c7b-2bd8c1b6e971",
        "outputId": "b26871b0-9af9-4797-bb95-821cbf92c031"
      },
      "outputs": [
        {
          "name": "stdout",
          "output_type": "stream",
          "text": [
            "The length of the string is 13\n"
          ]
        }
      ],
      "source": [
        "#8\n",
        "string = \"Hello, world!\"\n",
        "count = 0\n",
        "for character in string:\n",
        "  count += 1\n",
        "\n",
        "print(\"The length of the string is\", count)\n"
      ]
    },
    {
      "cell_type": "code",
      "execution_count": null,
      "id": "db274575-d1be-4ac4-a5cc-a90517ebd5f1",
      "metadata": {
        "id": "db274575-d1be-4ac4-a5cc-a90517ebd5f1",
        "outputId": "3724aafe-f806-4a22-9509-263ab07fdb8e"
      },
      "outputs": [
        {
          "name": "stdout",
          "output_type": "stream",
          "text": [
            "The average of the numbers is 3.0\n"
          ]
        }
      ],
      "source": [
        "#9\n",
        "numbers = [1, 2, 3, 4, 5]\n",
        "sum = 0\n",
        "count = len(numbers)\n",
        "\n",
        "for number in numbers:\n",
        "  sum += number\n",
        "\n",
        "average = sum / count\n",
        "print(\"The average of the numbers is\", average)\n"
      ]
    },
    {
      "cell_type": "code",
      "execution_count": null,
      "id": "103ffe57-3314-4eed-9ca1-8ec6e0eb945e",
      "metadata": {
        "id": "103ffe57-3314-4eed-9ca1-8ec6e0eb945e",
        "outputId": "1242e6dd-8bdd-48a2-e09f-fef52d15b51e"
      },
      "outputs": [
        {
          "name": "stdin",
          "output_type": "stream",
          "text": [
            "Enter the number of Fibonacci numbers to print:  5\n"
          ]
        },
        {
          "name": "stdout",
          "output_type": "stream",
          "text": [
            "0\n",
            "1\n",
            "1\n",
            "2\n",
            "3\n"
          ]
        }
      ],
      "source": [
        "#10\n",
        "def fibonacci(n):\n",
        "  if n == 0 or n == 1:\n",
        "    return n\n",
        "  else:\n",
        "    return fibonacci(n - 1) + fibonacci(n - 2)\n",
        "\n",
        "n = int(input(\"Enter the number of Fibonacci numbers to print: \"))\n",
        "for i in range(n):\n",
        "  print(fibonacci(i))\n"
      ]
    },
    {
      "cell_type": "code",
      "execution_count": null,
      "id": "726e774f-97f8-441d-9286-179cf0178f43",
      "metadata": {
        "id": "726e774f-97f8-441d-9286-179cf0178f43",
        "outputId": "99614245-11b4-4e4a-d737-5630527e9d8a"
      },
      "outputs": [
        {
          "name": "stdout",
          "output_type": "stream",
          "text": [
            "Duplicate is present in the list\n"
          ]
        }
      ],
      "source": [
        "#11\n",
        "lst = [1,1,2,3,4,5,6,7,]\n",
        "duplicate_found = False\n",
        "for i in range(len(lst)):\n",
        "    for j in range(i+1,len(lst)):\n",
        "        if lst[i] == lst[j]:\n",
        "            duplicate_found = True\n",
        "        else:\n",
        "           no_duplicate = True\n",
        "if duplicate_found:\n",
        "    print(\"Duplicate is present in the list\")\n",
        "else:\n",
        "    print(\"Duplicate is not present in the list\")"
      ]
    },
    {
      "cell_type": "code",
      "execution_count": null,
      "id": "8bdc9666-a1cf-495e-8747-a15e290f09c5",
      "metadata": {
        "id": "8bdc9666-a1cf-495e-8747-a15e290f09c5",
        "outputId": "c3ceceee-9979-4c7a-b1c5-149663f76913"
      },
      "outputs": [
        {
          "name": "stdin",
          "output_type": "stream",
          "text": [
            " 20\n"
          ]
        },
        {
          "name": "stdout",
          "output_type": "stream",
          "text": [
            "[3, 5, 7, 9, 11, 13, 15, 17, 19] [2, 4, 6, 8, 10, 12, 14, 16, 18, 20]\n"
          ]
        }
      ],
      "source": [
        "#12\n",
        "n = int(input())\n",
        "prime_number = False\n",
        "lst_not_prime = []\n",
        "lst_is_prime = []\n",
        "for i in range(2,n+1):\n",
        "    if i % 2 != 0:\n",
        "        prime_number = False\n",
        "        lst_not_prime.append(i)\n",
        "    else:\n",
        "        prime_number = True\n",
        "        lst_is_prime.append(i)\n",
        "print(lst_not_prime, lst_is_prime)\n"
      ]
    },
    {
      "cell_type": "code",
      "execution_count": null,
      "id": "a9c93a5f-e605-44a2-bf7a-5656459daf0d",
      "metadata": {
        "id": "a9c93a5f-e605-44a2-bf7a-5656459daf0d",
        "outputId": "3a10c1d7-01f2-4a78-8000-7c33ada67f7d"
      },
      "outputs": [
        {
          "name": "stdin",
          "output_type": "stream",
          "text": [
            " shashank\n"
          ]
        },
        {
          "name": "stdout",
          "output_type": "stream",
          "text": [
            "2\n"
          ]
        }
      ],
      "source": [
        "#13 Develop a program that counts the number of vowels in a string using a `for` loop.\n",
        "a = input()\n",
        "count = 0\n",
        "for i in a:\n",
        "    if i == 'a' or i == 'i' or i == 'e' or i == 'o' or i == 'u':\n",
        "        count = count + 1\n",
        "    else:\n",
        "        pass\n",
        "print(count)"
      ]
    },
    {
      "cell_type": "markdown",
      "id": "54ae0e15-077d-457a-9087-5a5367ce632c",
      "metadata": {
        "id": "54ae0e15-077d-457a-9087-5a5367ce632c"
      },
      "source": [
        "14. Write a program to find the maximum element in a 2D list using a nested `for` loop.\n",
        "\n",
        "15. Create a program that removes all occurrences of a specific element from a list using a `for` loop.\n",
        "\n",
        "16. Develop a program that generates a multiplication table for numbers from 1 to 5 using a nested `for` loop.\n",
        "\n",
        "17. Write a program that converts a list of Fahrenheit temperatures to Celsius using a `for` loop.\n",
        "\n",
        "18. Create a program to print the common elements from two lists using a `for` loop.\n",
        "\n",
        "19. Develop a program that prints the pattern of right-angled triangles using a `for` loop. Use ‘*’ to draw the pattern\n",
        "\n",
        "20. Write a program to find the greatest common divisor (GCD) of two numbers using a `for` loop.\n",
        "\n"
      ]
    },
    {
      "cell_type": "code",
      "execution_count": null,
      "id": "0efd778d-9a65-459d-9be0-396172c9b6af",
      "metadata": {
        "id": "0efd778d-9a65-459d-9be0-396172c9b6af",
        "outputId": "09717c53-ae96-47e4-d69d-00af47262446"
      },
      "outputs": [
        {
          "name": "stdout",
          "output_type": "stream",
          "text": [
            "9\n"
          ]
        }
      ],
      "source": [
        "#14\n",
        "lst2 = [[1,9,3], [4, 5, 6]]\n",
        "max_value = lst2[0][0]\n",
        "for i in lst2:\n",
        "    for j in i:\n",
        "        if j>max_value:\n",
        "            max_value = j\n",
        "\n",
        "print(max_value)\n"
      ]
    },
    {
      "cell_type": "code",
      "execution_count": null,
      "id": "4279fb30-bdd4-4130-a9fd-11d1680bbf09",
      "metadata": {
        "id": "4279fb30-bdd4-4130-a9fd-11d1680bbf09",
        "outputId": "8ba41393-5654-4143-d062-81ca339b6337"
      },
      "outputs": [
        {
          "name": "stdin",
          "output_type": "stream",
          "text": [
            " 5\n"
          ]
        },
        {
          "name": "stdout",
          "output_type": "stream",
          "text": [
            "[1, 2, 3, 4, 6]\n"
          ]
        }
      ],
      "source": [
        "#15\n",
        "lst3 = [1,2,3,4,5,6]\n",
        "target = int(input())\n",
        "for i in lst3:\n",
        "    if i == target:\n",
        "        lst3.remove(target)\n",
        "        print(lst3)"
      ]
    },
    {
      "cell_type": "code",
      "execution_count": null,
      "id": "7b50a422-a32e-46c1-9cb9-5c677289bfa0",
      "metadata": {
        "id": "7b50a422-a32e-46c1-9cb9-5c677289bfa0",
        "outputId": "8ff96612-4488-409c-8e63-e08577f20bdf"
      },
      "outputs": [
        {
          "name": "stdin",
          "output_type": "stream",
          "text": [
            " 10\n"
          ]
        },
        {
          "name": "stdout",
          "output_type": "stream",
          "text": [
            "1 * 5 = 5\n",
            "2 * 5 = 10\n",
            "3 * 5 = 15\n",
            "4 * 5 = 20\n",
            "5 * 5 = 25\n",
            "6 * 5 = 30\n",
            "7 * 5 = 35\n",
            "8 * 5 = 40\n",
            "9 * 5 = 45\n",
            "10 * 5 = 50\n"
          ]
        }
      ],
      "source": [
        "#16 Develop a program that generates a multiplication table for numbers from 1 to 5 using a nested for loop.\n",
        "table = int(input())\n",
        "for i in range(1,table+1):\n",
        "    for j in range(i+1, 6):\n",
        "        pass\n",
        "    a = i*j\n",
        "    print(f\"{i} * {j} = {a}\")\n"
      ]
    },
    {
      "cell_type": "code",
      "execution_count": null,
      "id": "099d0e3c-655a-470e-b121-d664fb6f2214",
      "metadata": {
        "id": "099d0e3c-655a-470e-b121-d664fb6f2214",
        "outputId": "bd2c2541-4416-447f-bdbb-8bc96d42ae9a"
      },
      "outputs": [
        {
          "name": "stdout",
          "output_type": "stream",
          "text": [
            "[0.0, 22.0, 15.400000000000002]\n"
          ]
        }
      ],
      "source": [
        "#17 Write a program that converts a list of Fahrenheit temperatures to Celsius using a for loop.\n",
        "lst_temp_Fahrenheit = [32,72,60]\n",
        "lst_temp_Celsius = []\n",
        "for F in lst_temp_Fahrenheit:\n",
        "    Celsius = 0.55*(F-32)\n",
        "    lst_temp_Celsius.append(Celsius)\n",
        "print(lst_temp_Celsius)"
      ]
    },
    {
      "cell_type": "code",
      "execution_count": null,
      "id": "c0287c2a-066e-4f97-a7fa-d37bbf42efdc",
      "metadata": {
        "id": "c0287c2a-066e-4f97-a7fa-d37bbf42efdc",
        "outputId": "5910af9f-733f-4660-9c25-74f8fac10393"
      },
      "outputs": [
        {
          "name": "stdout",
          "output_type": "stream",
          "text": [
            "[1, 4, 5]\n"
          ]
        }
      ],
      "source": [
        "#18 Create a program to print the common elements from two lists using a for loop.\n",
        "lst1 = [1,2,3,4,5]\n",
        "lst2 = [1,7,8,9,4,5]\n",
        "lst3 = []\n",
        "for i in lst1:\n",
        "    for j in lst2:\n",
        "        if i == j:\n",
        "            lst3.append(i)\n",
        "print(lst3)"
      ]
    },
    {
      "cell_type": "code",
      "execution_count": null,
      "id": "3a92cb4b-150d-46d8-9e9e-b2b3b3cb065d",
      "metadata": {
        "id": "3a92cb4b-150d-46d8-9e9e-b2b3b3cb065d",
        "outputId": "903ce256-063d-4d86-c4a8-6a52adc1af51"
      },
      "outputs": [
        {
          "name": "stdin",
          "output_type": "stream",
          "text": [
            " 5\n"
          ]
        },
        {
          "name": "stdout",
          "output_type": "stream",
          "text": [
            "\n",
            "*\n",
            "**\n",
            "***\n",
            "****\n"
          ]
        }
      ],
      "source": [
        "#19 Develop a program that prints the pattern of right-angled triangles using a for loop. Use ‘*’ to draw the pattern\n",
        "a = int(input())\n",
        "for i in range(0,a):\n",
        "    for j in range(0,i):\n",
        "        print(\"*\", end ='')\n",
        "    print()"
      ]
    },
    {
      "cell_type": "code",
      "execution_count": null,
      "id": "9a7fb5dc-3132-49aa-a29c-fef80b3d1cb9",
      "metadata": {
        "colab": {
          "base_uri": "https://localhost:8080/"
        },
        "id": "9a7fb5dc-3132-49aa-a29c-fef80b3d1cb9",
        "outputId": "348cba6f-cf50-47bc-f00e-d7e4215f5efd"
      },
      "outputs": [
        {
          "output_type": "stream",
          "name": "stdout",
          "text": [
            "Enter first number4\n",
            "Enter second number16\n",
            "4\n"
          ]
        }
      ],
      "source": [
        "#20 Write a program to find the greatest common divisor (GCD) of two numbers using a for loop.\n",
        "a = int(input(\"Enter first number\"))\n",
        "b = int(input(\"Enter second number\"))\n",
        "lst = []\n",
        "for i in range(1,10):\n",
        "  if a%i == 0 and b%i == 0:\n",
        "    lst.append(i)\n",
        "gcd = max(lst)\n",
        "print(gcd)\n"
      ]
    },
    {
      "cell_type": "code",
      "execution_count": null,
      "id": "88a72d74-4f84-4734-b35b-4fc7c5a09ac1",
      "metadata": {
        "colab": {
          "base_uri": "https://localhost:8080/"
        },
        "id": "88a72d74-4f84-4734-b35b-4fc7c5a09ac1",
        "outputId": "70f2c943-0796-499d-d163-6d32b3ffef78"
      },
      "outputs": [
        {
          "output_type": "stream",
          "name": "stdout",
          "text": [
            "Sum of digits for 123 is 6\n",
            "Sum of digits for 456 is 15\n",
            "Sum of digits for 7890 is 24\n",
            "Sum of digits for 42 is 6\n",
            "Sum of digits for 7 is 7\n"
          ]
        }
      ],
      "source": [
        "# 21\n",
        "\n",
        "numbers = [123, 456, 7890, 42, 7]\n",
        "\n",
        "# Use a list comprehension to calculate the sum of digits for each number\n",
        "sums_of_digits = [sum(int(digit) for digit in str(number) if digit.isdigit()) for number in numbers]\n",
        "\n",
        "# Print the results\n",
        "for i in range(len(numbers)):\n",
        "    print(f\"Sum of digits for {numbers[i]} is {sums_of_digits[i]}\")\n"
      ]
    },
    {
      "cell_type": "code",
      "source": [
        "#22\n",
        "num = int(input(\"Enter a number: \"))\n",
        "\n",
        "factors = [i for i in range(2, num + 1) if num % i == 0]\n",
        "prime_factors = [factor for factor in factors if all(factor % j != 0 for j in range(2, factor))]\n",
        "\n",
        "print(f\"Prime factors of {num} are: {prime_factors}\")\n"
      ],
      "metadata": {
        "colab": {
          "base_uri": "https://localhost:8080/"
        },
        "id": "bqhb9RyQJL7b",
        "outputId": "7e525b71-1fde-4475-fd39-416af95b7a93"
      },
      "id": "bqhb9RyQJL7b",
      "execution_count": null,
      "outputs": [
        {
          "output_type": "stream",
          "name": "stdout",
          "text": [
            "Enter a number: 10\n",
            "Prime factors of 10 are: [2, 5]\n"
          ]
        }
      ]
    },
    {
      "cell_type": "code",
      "source": [
        "#23\n",
        "lst = [1,2,3,4,5,1,2,3,4]\n",
        "unique_element = [i for i in lst if lst.count(i) == 1]\n",
        "print(unique_element)"
      ],
      "metadata": {
        "colab": {
          "base_uri": "https://localhost:8080/"
        },
        "id": "O64Zqg05KpPZ",
        "outputId": "4dadc707-f1e0-4a2c-9c94-aa7e1ac6f20f"
      },
      "id": "O64Zqg05KpPZ",
      "execution_count": null,
      "outputs": [
        {
          "output_type": "stream",
          "name": "stdout",
          "text": [
            "[5]\n"
          ]
        }
      ]
    },
    {
      "cell_type": "code",
      "source": [
        "#24\n",
        "lst = [121, 12321, 122, 155]\n",
        "palindromic_number = [i for i in lst if str(i) == str(i)[::-1]]\n",
        "print(palindromic_number)"
      ],
      "metadata": {
        "colab": {
          "base_uri": "https://localhost:8080/"
        },
        "id": "ieKC9WMHLjZC",
        "outputId": "3667a13d-2a36-49ac-c716-7d39322ac866"
      },
      "id": "ieKC9WMHLjZC",
      "execution_count": null,
      "outputs": [
        {
          "output_type": "stream",
          "name": "stdout",
          "text": [
            "[121, 12321]\n"
          ]
        }
      ]
    },
    {
      "cell_type": "code",
      "source": [
        "#25\n",
        "lst = [[1,2,3],[4,5,6],[7,8,9]]\n",
        "flat_lst = [i for sublist in lst for i in sublist]\n",
        "print(flat_lst)"
      ],
      "metadata": {
        "id": "2mMZ4_8MOaAW",
        "colab": {
          "base_uri": "https://localhost:8080/"
        },
        "outputId": "98283f1f-8b7b-4034-906d-c906153d7073"
      },
      "id": "2mMZ4_8MOaAW",
      "execution_count": null,
      "outputs": [
        {
          "output_type": "stream",
          "name": "stdout",
          "text": [
            "[1, 2, 3, 4, 5, 6, 7, 8, 9]\n"
          ]
        }
      ]
    },
    {
      "cell_type": "markdown",
      "source": [
        "26. Develop a program that computes the sum of even and odd numbers in a list separately using list\n",
        "comprehension.\n",
        "\n",
        "27. Create a program that generates a list of squares of odd numbers between 1 and 10 using list\n",
        "comprehension.\n",
        "\n",
        "28. Write a program that combines two lists into a dictionary using list comprehension.\n",
        "\n",
        "29. Develop a program that extracts the vowels from a string and stores them in a list using list comprehension.\n",
        "\n",
        "30. Create a program that removes all non-numeric characters from a list of strings using list comprehension.\n"
      ],
      "metadata": {
        "id": "dKmDgudSuOsF"
      },
      "id": "dKmDgudSuOsF"
    },
    {
      "cell_type": "code",
      "source": [
        "#26\n",
        "lst = [1,2,3,4,5,6,7,8]\n",
        "lst_even = [i for i in lst if i%2 == 0]\n",
        "lst_odd = [i for i in lst if i%2 != 0]\n",
        "odd_sum = sum(lst_odd)\n",
        "even_sum = sum(lst_even)\n",
        "print(even_sum, odd_sum)"
      ],
      "metadata": {
        "colab": {
          "base_uri": "https://localhost:8080/"
        },
        "id": "I8qR7ysBrqDY",
        "outputId": "409e7844-cbea-451d-af18-78a41aec1d51"
      },
      "id": "I8qR7ysBrqDY",
      "execution_count": null,
      "outputs": [
        {
          "output_type": "stream",
          "name": "stdout",
          "text": [
            "20 16\n"
          ]
        }
      ]
    },
    {
      "cell_type": "code",
      "source": [
        "#27\n",
        "lst_sqr = [i**2 for i in range(1, 10) if i%2 != 0]\n",
        "print(lst_sqr)"
      ],
      "metadata": {
        "id": "INkpdzAEvHIP",
        "colab": {
          "base_uri": "https://localhost:8080/"
        },
        "outputId": "6b194b38-cb20-47a1-e1d0-f1d21b6b82ca"
      },
      "id": "INkpdzAEvHIP",
      "execution_count": 2,
      "outputs": [
        {
          "output_type": "stream",
          "name": "stdout",
          "text": [
            "[1, 9, 25, 49, 81]\n"
          ]
        }
      ]
    },
    {
      "cell_type": "code",
      "source": [
        "#28\n",
        "lst1 = [1,2,3]\n",
        "lst2 = [\"shashank\",\"Garima\",\"Aditya\"]\n",
        "res = {lst2[i]: lst1[i] for i in range(len(lst2))}\n",
        "print(res)"
      ],
      "metadata": {
        "colab": {
          "base_uri": "https://localhost:8080/"
        },
        "id": "LRap1pXGWu6f",
        "outputId": "fb0a6688-5acc-4b2a-afa7-50e078d96676"
      },
      "id": "LRap1pXGWu6f",
      "execution_count": 5,
      "outputs": [
        {
          "output_type": "stream",
          "name": "stdout",
          "text": [
            "{'shashank': 1, 'Garima': 2, 'Aditya': 3}\n"
          ]
        }
      ]
    },
    {
      "cell_type": "code",
      "source": [
        "#29\n",
        "lst1 = \"India\"\n",
        "vowels = [i for i in lst1 if i == 'a' or i == 'i'or i == 'o' or i == 'e' or i == 'u']\n",
        "print(vowels)"
      ],
      "metadata": {
        "colab": {
          "base_uri": "https://localhost:8080/"
        },
        "id": "SmalWvVZYLO4",
        "outputId": "08c8fe31-0525-40c6-c07a-ce845bf169a3"
      },
      "id": "SmalWvVZYLO4",
      "execution_count": 9,
      "outputs": [
        {
          "output_type": "stream",
          "name": "stdout",
          "text": [
            "['i', 'a']\n"
          ]
        }
      ]
    },
    {
      "cell_type": "code",
      "source": [
        "#30\n",
        "lst_alpha = [\"shashank\",\"Garima\", 1, 3, \"aditya\"]\n",
        "lst_string = [i for i in lst_alpha if i == str(i)]\n",
        "print(lst_string)"
      ],
      "metadata": {
        "colab": {
          "base_uri": "https://localhost:8080/"
        },
        "id": "oIPPPzkiZkPv",
        "outputId": "5d7a2b5c-bb0f-4756-9054-bbcbb0979d37"
      },
      "id": "oIPPPzkiZkPv",
      "execution_count": 11,
      "outputs": [
        {
          "output_type": "stream",
          "name": "stdout",
          "text": [
            "['shashank', 'Garima', 'aditya']\n"
          ]
        }
      ]
    },
    {
      "cell_type": "markdown",
      "source": [
        "**Challenge Level:**\n",
        "\n",
        "31. Write a program to generate a list of prime numbers using the Sieve of Eratosthenes algorithm and list\n",
        "comprehension.\n",
        "\n",
        "32. Create a program that generates a list of all Pythagorean triplets up to a specified limit using list\n",
        "comprehension.\n",
        "33. Develop a program that generates a list of all possible combinations of two lists using list comprehension.\n",
        "\n",
        "34. Write a program that calculates the mean, median, and mode of a list of numbers using list\n",
        "comprehension.\n",
        "\n",
        "35. Create a program that generates Pascal's triangle up to a specified number of rows using list\n",
        "comprehension.\n",
        "\n",
        "36. Develop a program that calculates the sum of the digits of a factorial of numbers from 1 to 5 using list\n",
        "comprehension.\n",
        "\n",
        "37. Write a program that finds the longest word in a sentence using list comprehension.\n",
        "\n",
        "38. Create a program that filters a list of strings to include only those with more than three vowels using list\n",
        "comprehension.\n",
        "\n",
        "39. Develop a program that calculates the sum of the digits of numbers from 1 to 1000 using list\n",
        "comprehension.\n",
        "\n",
        "40. Write a program that generates a list of prime palindromic numbers using list comprehension.\n",
        "\n"
      ],
      "metadata": {
        "id": "jq4zrZJRcBhw"
      },
      "id": "jq4zrZJRcBhw"
    },
    {
      "cell_type": "code",
      "source": [
        "#39\n",
        "digit_sums = [sum(int(digit) for digit in str(n)) for n in range(1, 1001)]\n",
        "print(sum(digit_sums))"
      ],
      "metadata": {
        "colab": {
          "base_uri": "https://localhost:8080/"
        },
        "id": "IprhQALobL98",
        "outputId": "6a322529-7465-41a8-a20e-1dd1ed740b26"
      },
      "id": "IprhQALobL98",
      "execution_count": 2,
      "outputs": [
        {
          "output_type": "stream",
          "name": "stdout",
          "text": [
            "13501\n"
          ]
        }
      ]
    },
    {
      "cell_type": "code",
      "source": [],
      "metadata": {
        "id": "zUoAOMWd5Qk8"
      },
      "id": "zUoAOMWd5Qk8",
      "execution_count": null,
      "outputs": []
    }
  ],
  "metadata": {
    "kernelspec": {
      "display_name": "Python 3 (ipykernel)",
      "language": "python",
      "name": "python3"
    },
    "language_info": {
      "codemirror_mode": {
        "name": "ipython",
        "version": 3
      },
      "file_extension": ".py",
      "mimetype": "text/x-python",
      "name": "python",
      "nbconvert_exporter": "python",
      "pygments_lexer": "ipython3",
      "version": "3.10.8"
    },
    "colab": {
      "provenance": []
    }
  },
  "nbformat": 4,
  "nbformat_minor": 5
}